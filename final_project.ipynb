{
 "cells": [
  {
   "cell_type": "code",
   "execution_count": 32,
   "metadata": {},
   "outputs": [],
   "source": [
    "import requests\n",
    "from bs4 import BeautifulSoup"
   ]
  },
  {
   "cell_type": "code",
   "execution_count": 37,
   "metadata": {
    "scrolled": true
   },
   "outputs": [
    {
     "name": "stdout",
     "output_type": "stream",
     "text": [
      "the url of this page is http://www.ptt.cc/bbs/MobileComm/index6502.html\n",
      "the url of this page is http://www.ptt.cc/bbs/MobileComm/index6501.html\n",
      "the url of this page is http://www.ptt.cc/bbs/MobileComm/index6500.html\n"
     ]
    }
   ],
   "source": [
    "url = \"https://www.ptt.cc/bbs/MobileComm/index.html\"\n",
    "f = open('file.txt','w')\n",
    "\n",
    "for i in range(3): # fetch 3 pages\n",
    "    \n",
    "    r = requests.get(url) # the url to get HTML\n",
    "\n",
    "    # print(r.text) # to see the html code\n",
    "\n",
    "    soup = BeautifulSoup(r.text, \"html.parser\") # Change the info from HTML to html.parser by BeautifulSoup \n",
    "\n",
    "    sel = soup.select(\"div.title a\") # get the label of <div class=\"title\"></div>'s <a>label store in \"sel\"\n",
    "\n",
    "    up = soup.select(\"div.btn-group.btn-group-paging a\") # get the <a> label's info from uppage button\n",
    "    \n",
    "    url = \"http://www.ptt.cc\" + up[1][\"href\"] # uppages's url 0 ~ n => the list of the btn-group-paging\n",
    "    \n",
    "    print(\"the url of this page is \"+ url )"
   ]
  },
  {
   "cell_type": "code",
   "execution_count": 38,
   "metadata": {},
   "outputs": [
    {
     "name": "stdout",
     "output_type": "stream",
     "text": [
      "/bbs/MobileComm/M.1620623935.A.4B4.html [問題] 蘋果不加入安卓的返回手勢的原因？\n",
      "/bbs/MobileComm/M.1620625482.A.74A.html [問題] xperia 5 ii的充電線？\n",
      "/bbs/MobileComm/M.1620626874.A.6D8.html [新聞] Sony Xperia 10 III 台灣 5/18 上市發表\n",
      "/bbs/MobileComm/M.1620630407.A.31E.html [問題] 想請大家推薦一下兒童智慧手錶\n",
      "/bbs/MobileComm/M.1620635522.A.9B1.html [新聞] Redmi K40 遊戲增強版可能會推出另一個搭\n",
      "/bbs/MobileComm/M.1620636070.A.1D7.html [新聞] 高通晶片有漏洞 恐讓全球30％ Android手\n",
      "/bbs/MobileComm/M.1620638547.A.9A7.html [討論] 複習一下3年前母親節499之亂\n",
      "/bbs/MobileComm/M.1620643588.A.C4A.html [問題] 小米10T升級版本後的疑問\n",
      "/bbs/MobileComm/M.1620643771.A.9D9.html Fw: [問題] 如何匯入Google資訊主頁資料？\n",
      "/bbs/MobileComm/M.1620646609.A.1D2.html [問題] 我是不是拿到 pixel 4a5G 的機王了？\n",
      "/bbs/MobileComm/M.1620648939.A.0DD.html [討論] 來測試看看你的遠傳是否被限速youtube？\n",
      "/bbs/MobileComm/M.1620650573.A.3AE.html [問題] Pixel 5 不支援美國Verizon頻寬??\n",
      "/bbs/MobileComm/M.1620651681.A.F6C.html Re: [討論] 來測試看看你的遠傳是否被限速youtube？\n",
      "/bbs/MobileComm/M.1620653345.A.286.html [新聞] 解鎖他人iPhone不用密碼?萬人瘋傳教學片 3C達人揭疑點\n",
      "/bbs/MobileComm/M.1620655724.A.157.html [問題]piexl4a螢幕總成報價4600要修嗎？\n",
      "/bbs/MobileComm/M.1620658012.A.E41.html Re: [問題] 安卓換蘋果手機 LINE聊天紀錄\n",
      "/bbs/MobileComm/M.1620658946.A.5DD.html [討論] 關於Oneplus 9/9 pro/9R\n",
      "/bbs/MobileComm/M.1620661323.A.16B.html [心得] Sony Xperia 5 II 照片分享by新竹內灣\n",
      "/bbs/MobileComm/M.1620679465.A.26C.html [問題] 一加7Pro 5GHz WiFI速度不理想\n"
     ]
    }
   ],
   "source": [
    "for s in sel:\n",
    "    print(s[\"href\"], s.text)\n",
    "    f.write(str(s[\"href\"]) + s.text+\"\\n\")\n",
    "f.close()"
   ]
  },
  {
   "cell_type": "code",
   "execution_count": null,
   "metadata": {},
   "outputs": [],
   "source": []
  }
 ],
 "metadata": {
  "kernelspec": {
   "display_name": "Python 3",
   "language": "python",
   "name": "python3"
  },
  "language_info": {
   "codemirror_mode": {
    "name": "ipython",
    "version": 3
   },
   "file_extension": ".py",
   "mimetype": "text/x-python",
   "name": "python",
   "nbconvert_exporter": "python",
   "pygments_lexer": "ipython3",
   "version": "3.7.4"
  }
 },
 "nbformat": 4,
 "nbformat_minor": 4
}
